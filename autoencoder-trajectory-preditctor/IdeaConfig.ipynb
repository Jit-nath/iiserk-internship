{
 "cells": [
  {
   "cell_type": "code",
   "execution_count": null,
   "id": "0bfdb424-9539-4d50-a825-b973399290c9",
   "metadata": {},
   "outputs": [],
   "source": [
    "Frames = 500\n",
    "Learning_rate = 1e-4\n",
    "Weight_decay = 1e-5\n",
    "Batch_size = 8\n",
    "encoding_dim = 8\n",
    "device = 'cuda'\n",
    "epoches = 100\n",
    "\n",
    "def make_encoder(input_dim, encoding_dim, hidden_dim=64):\n",
    "    return nn.Sequential(\n",
    "        nn.Linear(input_dim, hidden_dim),\n",
    "        nn.BatchNorm1d(hidden_dim),\n",
    "        nn.ReLU(),\n",
    "        nn.Dropout(0.1),\n",
    "        nn.Linear(hidden_dim, encoding_dim)\n",
    "    )\n",
    "\n",
    "def make_decoder(encoding_dim, output_dim, hidden_dim=64):\n",
    "    return nn.Sequential(\n",
    "        nn.Linear(encoding_dim, hidden_dim),\n",
    "        nn.BatchNorm1d(hidden_dim),\n",
    "        nn.ReLU(),\n",
    "        nn.Dropout(0.1),\n",
    "        nn.Linear(hidden_dim, output_dim)\n",
    "    )"
   ]
  }
 ],
 "metadata": {
  "kernelspec": {
   "display_name": "Python 3 (ipykernel)",
   "language": "python",
   "name": "python3"
  },
  "language_info": {
   "codemirror_mode": {
    "name": "ipython",
    "version": 3
   },
   "file_extension": ".py",
   "mimetype": "text/x-python",
   "name": "python",
   "nbconvert_exporter": "python",
   "pygments_lexer": "ipython3",
   "version": "3.11.9"
  }
 },
 "nbformat": 4,
 "nbformat_minor": 5
}
